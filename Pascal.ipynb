{
 "cells": [
  {
   "cell_type": "code",
   "execution_count": 1,
   "metadata": {
    "collapsed": true
   },
   "outputs": [],
   "source": [
    "from pprint import pprint as print\n"
   ]
  },
  {
   "cell_type": "code",
   "execution_count": 2,
   "metadata": {},
   "outputs": [],
   "source": [
    "### Par le triangle de Pascal\n",
    "def coeff_binome_triangle(n,p):\n",
    "    assert(type(n)==int and n>=0)\n",
    "    assert(type(p)==int and 0<=p<=n)\n",
    "    liste = [[1],[1,1]]\n",
    "    for i in range(2,n+1):\n",
    "        ajout = [liste[i-1][k]+liste[i-1][k+1] for k in range(i-1)]\n",
    "        liste += [[1]+ajout+[1]]\n",
    "    return liste[n][p]\n"
   ]
  },
  {
   "cell_type": "code",
   "execution_count": 3,
   "metadata": {
    "collapsed": true
   },
   "outputs": [],
   "source": [
    "### Par le calcul de n!/p!/(n-p)!\n",
    "def fact(n):\n",
    "    acc = 1\n",
    "    for i in range(n):\n",
    "        acc *= i+1\n",
    "    return acc\n",
    "\n",
    "def coeff_binome_fact(n,p):\n",
    "    assert(type(n)==int and n>=0)\n",
    "    assert(type(p)==int and 0<=p<=n)\n",
    "    return int(fact(n)/fact(p)/fact(n-p))\n",
    "\n"
   ]
  },
  {
   "cell_type": "code",
   "execution_count": 12,
   "metadata": {},
   "outputs": [
    {
     "name": "stdout",
     "output_type": "stream",
     "text": [
      "[1]\n",
      "[1, 1]\n",
      "[1, 2, 1]\n",
      "[1, 3, 3, 1]\n",
      "[1, 4, 6, 4, 1]\n",
      "[1, 5, 10, 10, 5, 1]\n",
      "[1, 6, 15, 20, 15, 6, 1]\n",
      "[1, 7, 21, 35, 35, 21, 7, 1]\n",
      "[1, 8, 28, 56, 70, 56, 28, 8, 1]\n",
      "[1, 9, 36, 84, 126, 126, 84, 36, 9, 1]\n"
     ]
    }
   ],
   "source": [
    "# Par accumulation num et dénom dans n!/p!/(n-p)!\n",
    "def quick_binom(n,p):\n",
    "    binom = 1\n",
    "    for i in range(p):\n",
    "        binom *= n\n",
    "        n -= 1\n",
    "        i += 1\n",
    "        binom //= i\n",
    "    return binom\n",
    "\n",
    "for i in range(10):\n",
    "    print([quick_binom(i,j) for j in range(i+1)])\n"
   ]
  },
  {
   "cell_type": "code",
   "execution_count": 5,
   "metadata": {},
   "outputs": [
    {
     "name": "stdout",
     "output_type": "stream",
     "text": [
      "n=?10\n",
      "p=?5\n",
      "252\n",
      "252\n"
     ]
    }
   ],
   "source": [
    "n1 = int(input(\"n=?\"))\n",
    "p1 = int(input(\"p=?\"))\n",
    "\n",
    "print(coeff_binome_fact(n1,p1))\n",
    "print(coeff_binome_triangle(n1,p1))  \n"
   ]
  },
  {
   "cell_type": "code",
   "execution_count": 6,
   "metadata": {},
   "outputs": [
    {
     "name": "stdout",
     "output_type": "stream",
     "text": [
      "[[1],\n",
      " [1, 1],\n",
      " [1, 2, 1],\n",
      " [1, 3, 3, 1],\n",
      " [1, 4, 6, 4, 1],\n",
      " [1, 5, 10, 10, 5, 1],\n",
      " [1, 6, 15, 20, 15, 6, 1],\n",
      " [1, 7, 21, 35, 35, 21, 7, 1],\n",
      " [1, 8, 28, 56, 70, 56, 28, 8, 1],\n",
      " [1, 9, 36, 84, 126, 126, 84, 36, 9, 1],\n",
      " [1, 10, 45, 120, 210, 252, 210, 120, 45, 10, 1],\n",
      " [1, 11, 55, 165, 330, 462, 462, 330, 165, 55, 11, 1],\n",
      " [1, 12, 66, 220, 495, 792, 924, 792, 495, 220, 66, 12, 1],\n",
      " [1, 13, 78, 286, 715, 1287, 1716, 1716, 1287, 715, 286, 78, 13, 1],\n",
      " [1, 14, 91, 364, 1001, 2002, 3003, 3432, 3003, 2002, 1001, 364, 91, 14, 1],\n",
      " [1, 15, 105, 455, 1365, 3003, 5005, 6435, 6435, 5005, 3003, 1365, 455, 105, 15, 1]]\n"
     ]
    }
   ],
   "source": [
    "### Triangle de Pascal\n",
    "def fonction(n):\n",
    "    assert(type(n)==int and n>=0)\n",
    "    liste = [ [1], [1,1] ]\n",
    "    for i in range(1,n):\n",
    "        liste += [ [1] + [ liste[i][k] + liste[i][k+1] for k in range(i) ] + [1] ]\n",
    "    return liste[:n+1]\n",
    "\n",
    "print(fonction(15), width=160)"
   ]
  },
  {
   "cell_type": "code",
   "execution_count": 15,
   "metadata": {},
   "outputs": [
    {
     "data": {
      "text/plain": [
       "1024"
      ]
     },
     "execution_count": 15,
     "metadata": {},
     "output_type": "execute_result"
    }
   ],
   "source": [
    "sum(fonction(10)[10])"
   ]
  },
  {
   "cell_type": "code",
   "execution_count": null,
   "metadata": {
    "collapsed": true
   },
   "outputs": [],
   "source": []
  }
 ],
 "metadata": {
  "kernelspec": {
   "display_name": "Python 3",
   "language": "python",
   "name": "python3"
  },
  "language_info": {
   "codemirror_mode": {
    "name": "ipython",
    "version": 3
   },
   "file_extension": ".py",
   "mimetype": "text/x-python",
   "name": "python",
   "nbconvert_exporter": "python",
   "pygments_lexer": "ipython3",
   "version": "3.6.3"
  }
 },
 "nbformat": 4,
 "nbformat_minor": 2
}
