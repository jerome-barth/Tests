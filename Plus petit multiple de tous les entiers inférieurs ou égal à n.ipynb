{
 "cells": [
  {
   "cell_type": "code",
   "execution_count": null,
   "metadata": {},
   "outputs": [],
   "source": [
    "from math import *\n",
    "from functools import reduce\n",
    "\n",
    "def est_premier(n):\n",
    "    n = int(n)\n",
    "    if n < 2:\n",
    "        return False\n",
    "    for x in range(2, int(sqrt(n))+1):\n",
    "        if n % x == 0:\n",
    "            return False\n",
    "    else:\n",
    "        return True\n",
    "\n",
    "def puissance_max(n, x):\n",
    "    return floor(log(n)/log(x))\n",
    "\n",
    "def ppm_des_entiers_inferieurs(n):\n",
    "    return reduce((lambda x, y: x*y), map(lambda x: x**puissance_max(n, x), filter(est_premier, range(2,n+1))))\n",
    "               \n",
    "for i in range(2,101):\n",
    "    ppm = ppm_des_entiers_inferieurs(i)\n",
    "    print(i, ppm, float(ppm))"
   ]
  }
 ],
 "metadata": {
  "kernelspec": {
   "display_name": "Python 3",
   "language": "python",
   "name": "python3"
  },
  "language_info": {
   "codemirror_mode": {
    "name": "ipython",
    "version": 3
   },
   "file_extension": ".py",
   "mimetype": "text/x-python",
   "name": "python",
   "nbconvert_exporter": "python",
   "pygments_lexer": "ipython3",
   "version": "3.6.3"
  }
 },
 "nbformat": 4,
 "nbformat_minor": 2
}
